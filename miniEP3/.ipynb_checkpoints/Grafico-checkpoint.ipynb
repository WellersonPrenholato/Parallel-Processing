{
 "cells": [
  {
   "cell_type": "code",
   "execution_count": 16,
   "metadata": {
    "ExecuteTime": {
     "end_time": "2020-12-09T21:53:53.481332Z",
     "start_time": "2020-12-09T21:53:53.473336Z"
    }
   },
   "outputs": [],
   "source": [
    "import matplotlib.pyplot as plt\n",
    "import matplotlib.patches as mpatches\n",
    "import matplotlib as mpl\n",
    "import numpy as np"
   ]
  },
  {
   "cell_type": "markdown",
   "metadata": {
    "heading_collapsed": true
   },
   "source": [
    "# Sequencial"
   ]
  },
  {
   "cell_type": "code",
   "execution_count": 17,
   "metadata": {
    "ExecuteTime": {
     "end_time": "2020-12-09T21:53:53.497332Z",
     "start_time": "2020-12-09T21:53:53.486333Z"
    },
    "hidden": true
   },
   "outputs": [],
   "source": [
    "Sequencial = [[7.84865, 7.72567, 7.71522, 7.72088, 7.74788, 7.78087, 7.74042, 7.72110, 7.71791, 7.73014],\n",
    "[58.88155, 58.67497, 58.68339, 58.66050, 58.39553, 58.75345, 58.63370, 58.71119, 58.65137, 58.44316],\n",
    "[83.03606, 82.81296, 82.37394, 83.00009, 82.98509, 83.03144, 83.07291, 82.79136, 82.99844, 83.07951],\n",
    "]"
   ]
  },
  {
   "cell_type": "markdown",
   "metadata": {
    "ExecuteTime": {
     "end_time": "2020-10-05T00:34:03.470443Z",
     "start_time": "2020-10-05T00:34:03.466446Z"
    },
    "heading_collapsed": true
   },
   "source": [
    "# Usando 1 nó"
   ]
  },
  {
   "cell_type": "code",
   "execution_count": 18,
   "metadata": {
    "ExecuteTime": {
     "end_time": "2020-12-09T21:53:53.514331Z",
     "start_time": "2020-12-09T21:53:53.502332Z"
    },
    "hidden": true
   },
   "outputs": [],
   "source": [
    "Teste1 = [[9.43312,\n",
    "9.68091,\n",
    "9.55656,\n",
    "9.54180,\n",
    "9.69599,\n",
    "9.54265,\n",
    "9.53755,\n",
    "9.54781,\n",
    "9.55269,\n",
    "9.55043],\n",
    "[9.62321,\n",
    "9.60609,\n",
    "9.57443,\n",
    "9.54082,\n",
    "9.53767,\n",
    "9.59428,\n",
    "9.54547,\n",
    "9.62152,\n",
    "9.60102,\n",
    "9.60433],\n",
    "[9.61666,\n",
    "9.57069,\n",
    "9.59783,\n",
    "9.60592,\n",
    "9.60382,\n",
    "9.67587,\n",
    "9.54133,\n",
    "9.54790,\n",
    "9.57871,\n",
    "9.55528],\n",
    "]"
   ]
  },
  {
   "cell_type": "markdown",
   "metadata": {
    "heading_collapsed": true
   },
   "source": [
    "# Usando 2 nós"
   ]
  },
  {
   "cell_type": "code",
   "execution_count": 19,
   "metadata": {
    "ExecuteTime": {
     "end_time": "2020-12-09T21:53:53.536330Z",
     "start_time": "2020-12-09T21:53:53.519333Z"
    },
    "hidden": true
   },
   "outputs": [],
   "source": [
    "Teste2 = [[4.49863,\n",
    " 4.54259,\n",
    " 4.53766,\n",
    " 4.49530,\n",
    " 4.48922,\n",
    " 4.49979,\n",
    " 4.53817,\n",
    " 4.49705,\n",
    " 4.49263,\n",
    " 4.53761],\n",
    "[4.88908,\n",
    "4.89127,\n",
    "4.85816,\n",
    "4.85596,\n",
    "4.85387,\n",
    "4.85677,\n",
    "4.83111,\n",
    "4.85673,\n",
    "4.85946,\n",
    "4.85779],\n",
    "[4.87438,\n",
    "4.89057,\n",
    "4.88445,\n",
    "4.90060,\n",
    "4.84057,\n",
    "4.84287,\n",
    "4.84268,\n",
    "4.84089,\n",
    "4.84510,\n",
    "4.89365],\n",
    "]\n"
   ]
  },
  {
   "cell_type": "markdown",
   "metadata": {},
   "source": [
    "# DECLARAÇÕES"
   ]
  },
  {
   "cell_type": "code",
   "execution_count": 20,
   "metadata": {
    "ExecuteTime": {
     "end_time": "2020-12-09T21:53:53.549331Z",
     "start_time": "2020-12-09T21:53:53.540331Z"
    }
   },
   "outputs": [],
   "source": [
    "mediaTeste1 = []\n",
    "stdTeste1 = []\n",
    "\n",
    "mediaTeste2 = []\n",
    "stdTeste2 = []\n"
   ]
  },
  {
   "cell_type": "markdown",
   "metadata": {},
   "source": [
    "# CÓDIGO"
   ]
  },
  {
   "cell_type": "code",
   "execution_count": 21,
   "metadata": {
    "ExecuteTime": {
     "end_time": "2020-12-09T21:53:53.566332Z",
     "start_time": "2020-12-09T21:53:53.555331Z"
    }
   },
   "outputs": [],
   "source": [
    "for i in range(3):\n",
    "#     mediaSequencial.append(np.mean(Sequencial[i]))\n",
    "#     stdSequencial.append(np.std(Sequencial[i]))\n",
    "    \n",
    "    mediaTeste1.append(np.mean(Teste1[i]))\n",
    "    stdTeste1.append(np.std(Teste1[i]))\n",
    "\n",
    "    mediaTeste2.append(np.mean(Teste2[i]))\n",
    "    stdTeste2.append(np.std(Teste2[i]))\n",
    "\n",
    "#     mediaTeste48.append(np.mean(Teste48[i]))\n",
    "#     stdTeste48.append(np.std(Teste48[i]))"
   ]
  },
  {
   "cell_type": "code",
   "execution_count": 22,
   "metadata": {
    "ExecuteTime": {
     "end_time": "2020-12-09T21:53:53.584335Z",
     "start_time": "2020-12-09T21:53:53.571331Z"
    }
   },
   "outputs": [
    {
     "data": {
      "text/plain": [
       "[9.563951, 9.584884, 9.589400999999999]"
      ]
     },
     "execution_count": 22,
     "metadata": {},
     "output_type": "execute_result"
    }
   ],
   "source": [
    " mediaTeste1"
   ]
  },
  {
   "cell_type": "code",
   "execution_count": 23,
   "metadata": {
    "ExecuteTime": {
     "end_time": "2020-12-09T21:53:53.599330Z",
     "start_time": "2020-12-09T21:53:53.588331Z"
    }
   },
   "outputs": [
    {
     "data": {
      "text/plain": [
       "[4.512865, 4.86102, 4.865576000000001]"
      ]
     },
     "execution_count": 23,
     "metadata": {},
     "output_type": "execute_result"
    }
   ],
   "source": [
    "mediaTeste2"
   ]
  },
  {
   "cell_type": "code",
   "execution_count": null,
   "metadata": {},
   "outputs": [],
   "source": []
  },
  {
   "cell_type": "code",
   "execution_count": 25,
   "metadata": {
    "ExecuteTime": {
     "end_time": "2020-12-09T22:26:54.439213Z",
     "start_time": "2020-12-09T22:26:53.754218Z"
    }
   },
   "outputs": [
    {
     "data": {
      "image/png": "[encoded data removed]",
      "text/plain": [
       "<Figure size 720x360 with 1 Axes>"
      ]
     },
     "metadata": {
      "needs_background": "light"
     },
     "output_type": "display_data"
    }
   ],
   "source": [
    "fig = plt.figure(figsize=(10,5))\n",
    "ax1 = fig.add_subplot(111)\n",
    "\n",
    "## Média e desvio padrão ##\n",
    "\n",
    "# plt.errorbar(np.array(range(len(mediaSequencial)))*2, mediaSequencial, stdSequencial,label=r'Sequencial', color='#FF1493', fmt='8', lw=1, capsize=4, markersize=8, markeredgecolor='#FF1493', markerfacecolor='#FF69B4')\n",
    "# plt.plot(np.array(range(len(mediaSequencial)))*2, mediaSequencial, color='#FF1493',lw=2)\n",
    "\n",
    "plt.errorbar(np.array(range(len(mediaTeste1)))*2, mediaTeste1, stdTeste1,label=r'Usando 1 nó', color='#1F77B4', fmt='o', lw=1, capsize=4, markersize=8, markeredgecolor='#1F77B4', markerfacecolor='#8FBBD9')\n",
    "plt.plot(np.array(range(len(mediaTeste1)))*2, mediaTeste1, color='#1F77B4',lw=2)\n",
    "\n",
    "plt.errorbar(np.array(range(len(mediaTeste2)))*2, mediaTeste2, stdTeste2,label=r'Usando 2 nós', color='#D62728', fmt='s', lw=1, capsize=4, markersize=8, markeredgecolor='#D62728', markerfacecolor='#EA9393')\n",
    "plt.plot(np.array(range(len(mediaTeste2)))*2, mediaTeste2, color='#D62728',lw=2)\n",
    "\n",
    "# plt.errorbar(np.array(range(len(mediaTeste48)))*2, mediaTeste48, stdTeste48,label=r'48 Processos', color='#2CA02C', fmt='v', lw=1, capsize=4, markersize=8, markeredgecolor='#2CA02C', markerfacecolor='#95CF95')\n",
    "# plt.plot(np.array(range(len(mediaTeste48)))*2, mediaTeste48, color='#2CA02C',lw=2)\n",
    "\n",
    "\n",
    "ax1.yaxis.grid(True, linestyle='-', linewidth=0.5, which='major', color='lightgrey',alpha=1.0)\n",
    "# ax1.xaxis.grid(True, linestyle='-', linewidth=0.5, which='major', color='lightgrey',alpha=1.0)\n",
    "\n",
    "fontSize=12\n",
    "\n",
    "ax1.set_axisbelow(True)\n",
    "ax1.set_title('Gráfico MiniEP3 - Resultados', fontsize=fontSize+3, fontweight='bold')\n",
    "ax1.set_xlabel(r'Nº Processos', fontsize=fontSize+2)\n",
    "ax1.set_ylabel('Tempo médio (em seg)', fontsize=fontSize+2)\n",
    "ax1.xaxis.set_label_coords(0.5, -0.08)\n",
    "ax1.set_facecolor('white')\n",
    "\n",
    "\n",
    "handles, labels = ax1.get_legend_handles_labels()\n",
    "leg = ax1.legend(handles, labels, bbox_to_anchor=(0.01, 0.98), loc=2, borderaxespad=0., fontsize=fontSize)\n",
    "leg.get_frame().set_facecolor('#FFFFFF')\n",
    "plt.legend(title=r'Quantidade de nós por job')\n",
    "\n",
    "ticks = ['12', '24', '48']\n",
    "plt.xticks(range(0, len(ticks)*2, 2), ticks, fontsize=fontSize)\n",
    "plt.yticks(fontsize=fontSize)\n",
    "plt.xlim(-1, len(ticks)*2-1)\n",
    "#plt.ylim(-10, 40)\n",
    "\n",
    "plt.tight_layout()\n",
    "# plt.show()\n",
    "\n",
    "plt.savefig('Grafico.png',bbox_inches='tight')"
   ]
  },
  {
   "cell_type": "code",
   "execution_count": null,
   "metadata": {},
   "outputs": [],
   "source": []
  }
 ],
 "metadata": {
  "kernelspec": {
   "display_name": "Python 3",
   "language": "python",
   "name": "python3"
  },
  "language_info": {
   "codemirror_mode": {
    "name": "ipython",
    "version": 3
   },
   "file_extension": ".py",
   "mimetype": "text/x-python",
   "name": "python",
   "nbconvert_exporter": "python",
   "pygments_lexer": "ipython3",
   "version": "3.7.4"
  }
 },
 "nbformat": 4,
 "nbformat_minor": 4
}
